{
 "cells": [
  {
   "cell_type": "markdown",
   "metadata": {},
   "source": [
    "# How to do question answering over CSVs"
   ]
  },
  {
   "cell_type": "markdown",
   "metadata": {},
   "source": [
    "https://python.langchain.com/v0.2/docs/how_to/sql_csv/#chain\n",
    "\n",
    "https://python.langchain.com/v0.2/docs/tutorials/sql_qa/\n"
   ]
  },
  {
   "cell_type": "markdown",
   "metadata": {},
   "source": [
    "# Using python"
   ]
  },
  {
   "cell_type": "code",
   "execution_count": 1,
   "metadata": {},
   "outputs": [],
   "source": [
    "import pandas as pd"
   ]
  },
  {
   "cell_type": "code",
   "execution_count": 4,
   "metadata": {},
   "outputs": [
    {
     "data": {
      "text/html": [
       "<div>\n",
       "<style scoped>\n",
       "    .dataframe tbody tr th:only-of-type {\n",
       "        vertical-align: middle;\n",
       "    }\n",
       "\n",
       "    .dataframe tbody tr th {\n",
       "        vertical-align: top;\n",
       "    }\n",
       "\n",
       "    .dataframe thead th {\n",
       "        text-align: right;\n",
       "    }\n",
       "</style>\n",
       "<table border=\"1\" class=\"dataframe\">\n",
       "  <thead>\n",
       "    <tr style=\"text-align: right;\">\n",
       "      <th></th>\n",
       "      <th>essay_id</th>\n",
       "      <th>full_text</th>\n",
       "      <th>score</th>\n",
       "    </tr>\n",
       "  </thead>\n",
       "  <tbody>\n",
       "    <tr>\n",
       "      <th>0</th>\n",
       "      <td>000d118</td>\n",
       "      <td>Many people have car where they live. The thin...</td>\n",
       "      <td>3</td>\n",
       "    </tr>\n",
       "    <tr>\n",
       "      <th>1</th>\n",
       "      <td>000fe60</td>\n",
       "      <td>I am a scientist at NASA that is discussing th...</td>\n",
       "      <td>3</td>\n",
       "    </tr>\n",
       "    <tr>\n",
       "      <th>2</th>\n",
       "      <td>001ab80</td>\n",
       "      <td>People always wish they had the same technolog...</td>\n",
       "      <td>4</td>\n",
       "    </tr>\n",
       "    <tr>\n",
       "      <th>3</th>\n",
       "      <td>001bdc0</td>\n",
       "      <td>We all heard about Venus, the planet without a...</td>\n",
       "      <td>4</td>\n",
       "    </tr>\n",
       "    <tr>\n",
       "      <th>4</th>\n",
       "      <td>002ba53</td>\n",
       "      <td>Dear, State Senator\\n\\nThis is a letter to arg...</td>\n",
       "      <td>3</td>\n",
       "    </tr>\n",
       "  </tbody>\n",
       "</table>\n",
       "</div>"
      ],
      "text/plain": [
       "  essay_id                                          full_text  score\n",
       "0  000d118  Many people have car where they live. The thin...      3\n",
       "1  000fe60  I am a scientist at NASA that is discussing th...      3\n",
       "2  001ab80  People always wish they had the same technolog...      4\n",
       "3  001bdc0  We all heard about Venus, the planet without a...      4\n",
       "4  002ba53  Dear, State Senator\\n\\nThis is a letter to arg...      3"
      ]
     },
     "execution_count": 4,
     "metadata": {},
     "output_type": "execute_result"
    }
   ],
   "source": [
    "#loading the data\n",
    "df = pd.read_csv('train.csv')\n",
    "df.head()"
   ]
  },
  {
   "cell_type": "code",
   "execution_count": 7,
   "metadata": {},
   "outputs": [
    {
     "data": {
      "text/html": [
       "<div>\n",
       "<style scoped>\n",
       "    .dataframe tbody tr th:only-of-type {\n",
       "        vertical-align: middle;\n",
       "    }\n",
       "\n",
       "    .dataframe tbody tr th {\n",
       "        vertical-align: top;\n",
       "    }\n",
       "\n",
       "    .dataframe thead th {\n",
       "        text-align: right;\n",
       "    }\n",
       "</style>\n",
       "<table border=\"1\" class=\"dataframe\">\n",
       "  <thead>\n",
       "    <tr style=\"text-align: right;\">\n",
       "      <th></th>\n",
       "      <th>essay_id</th>\n",
       "      <th>full_text</th>\n",
       "      <th>score</th>\n",
       "    </tr>\n",
       "  </thead>\n",
       "  <tbody>\n",
       "    <tr>\n",
       "      <th>159</th>\n",
       "      <td>02d481d</td>\n",
       "      <td>Dear, Senator\\n\\nThe\\n\\nElectoral college has ...</td>\n",
       "      <td>6</td>\n",
       "    </tr>\n",
       "    <tr>\n",
       "      <th>416</th>\n",
       "      <td>06e2db4</td>\n",
       "      <td>For years and years, it has been said that emo...</td>\n",
       "      <td>6</td>\n",
       "    </tr>\n",
       "    <tr>\n",
       "      <th>462</th>\n",
       "      <td>07a14a5</td>\n",
       "      <td>The author's claim of studying Venus is a wort...</td>\n",
       "      <td>6</td>\n",
       "    </tr>\n",
       "    <tr>\n",
       "      <th>479</th>\n",
       "      <td>07d41ed</td>\n",
       "      <td>The use of the Facial Action Conding System wo...</td>\n",
       "      <td>6</td>\n",
       "    </tr>\n",
       "    <tr>\n",
       "      <th>631</th>\n",
       "      <td>0a22908</td>\n",
       "      <td>The author of this work is in favor of taking ...</td>\n",
       "      <td>6</td>\n",
       "    </tr>\n",
       "    <tr>\n",
       "      <th>...</th>\n",
       "      <td>...</td>\n",
       "      <td>...</td>\n",
       "      <td>...</td>\n",
       "    </tr>\n",
       "    <tr>\n",
       "      <th>16685</th>\n",
       "      <td>f5e49e4</td>\n",
       "      <td>January 23rd, 2015\\n\\nGreetings Mr. Senator,\\n...</td>\n",
       "      <td>6</td>\n",
       "    </tr>\n",
       "    <tr>\n",
       "      <th>16737</th>\n",
       "      <td>f6ccff9</td>\n",
       "      <td>Within Nick D'Altos article \"Making Mona Lisa ...</td>\n",
       "      <td>6</td>\n",
       "    </tr>\n",
       "    <tr>\n",
       "      <th>16758</th>\n",
       "      <td>f72239d</td>\n",
       "      <td>Have you ever experienced a whirlwind of emoti...</td>\n",
       "      <td>6</td>\n",
       "    </tr>\n",
       "    <tr>\n",
       "      <th>16831</th>\n",
       "      <td>f86b855</td>\n",
       "      <td>Emotions are a vital part of human life. Altho...</td>\n",
       "      <td>6</td>\n",
       "    </tr>\n",
       "    <tr>\n",
       "      <th>16954</th>\n",
       "      <td>fa9b6e1</td>\n",
       "      <td>Leonardo Da Vinci was one of the greatest reni...</td>\n",
       "      <td>6</td>\n",
       "    </tr>\n",
       "  </tbody>\n",
       "</table>\n",
       "<p>156 rows × 3 columns</p>\n",
       "</div>"
      ],
      "text/plain": [
       "      essay_id                                          full_text  score\n",
       "159    02d481d  Dear, Senator\\n\\nThe\\n\\nElectoral college has ...      6\n",
       "416    06e2db4  For years and years, it has been said that emo...      6\n",
       "462    07a14a5  The author's claim of studying Venus is a wort...      6\n",
       "479    07d41ed  The use of the Facial Action Conding System wo...      6\n",
       "631    0a22908  The author of this work is in favor of taking ...      6\n",
       "...        ...                                                ...    ...\n",
       "16685  f5e49e4  January 23rd, 2015\\n\\nGreetings Mr. Senator,\\n...      6\n",
       "16737  f6ccff9  Within Nick D'Altos article \"Making Mona Lisa ...      6\n",
       "16758  f72239d  Have you ever experienced a whirlwind of emoti...      6\n",
       "16831  f86b855  Emotions are a vital part of human life. Altho...      6\n",
       "16954  fa9b6e1  Leonardo Da Vinci was one of the greatest reni...      6\n",
       "\n",
       "[156 rows x 3 columns]"
      ]
     },
     "execution_count": 7,
     "metadata": {},
     "output_type": "execute_result"
    }
   ],
   "source": [
    "# Retrieving the essays that had the highest scores\n",
    "# Find the maximum score\n",
    "highest_score = df['score'].max()\n",
    "# Filter essays with the highest score\n",
    "top_essays = df[df['score'] == highest_score]\n",
    "top_essays"
   ]
  },
  {
   "cell_type": "markdown",
   "metadata": {},
   "source": [
    "## Using SQL"
   ]
  },
  {
   "cell_type": "code",
   "execution_count": 10,
   "metadata": {},
   "outputs": [
    {
     "data": {
      "text/plain": [
       "17307"
      ]
     },
     "execution_count": 10,
     "metadata": {},
     "output_type": "execute_result"
    }
   ],
   "source": [
    "from langchain_community.utilities import SQLDatabase\n",
    "from sqlalchemy import create_engine\n",
    "\n",
    "engine = create_engine(\"sqlite:///essay.db\")\n",
    "df.to_sql(\"essay\", engine, index=False)"
   ]
  },
  {
   "cell_type": "code",
   "execution_count": 11,
   "metadata": {},
   "outputs": [
    {
     "name": "stdout",
     "output_type": "stream",
     "text": [
      "sqlite\n",
      "['essay']\n",
      "[('02d481d', 'Dear, Senator\\n\\nThe\\n\\nElectoral college has been around for centuries and as time changes, things start to evolve and grow along with the time period.\\n\\nSome things are meant to be changed according to the lifestyle of our people now. Hundreds of years back, the electoral college might have worked...', 6), ('06e2db4', 'For years and years, it has been said that emotion comes from the \"heart\", when really, emotions are scientific. In a classroom setting, many students feel as if they are in an uncomfortable environment, causing them to become silent and unable to ask questions. With the use of the technology...', 6), ('07a14a5', \"The author's claim of studying Venus is a worthy pursuit because Venus is closely related to Earth, Venus has a enviroment that is similar to Earth, and scientists want to explore more of what Venus has to offer.\\n\\nThe first claim of why the author supports scientists studying Venus is that Venus...\", 6), ('07d41ed', 'The use of the Facial Action Conding System would be valuable to read the emotional expressions of students in the classroom because it will detect how the student feels about the task at hand. If it detects that the student is bored it could modify the lesson to make them more awake and begin...', 6), ('0a22908', 'The author of this work is in favor of taking on the great challenge of landing a \"rover\" on Venus for research and exploration. Venus has many extreme conditions that the earth does not have to endure. The author presented many \"solutions\" to these problems. Although plausible, the creations...', 6), ('0a9488d', 'Americans around the world gather around their televisions, frantically waiting to see who the next leader of the USA is. The first Tuesday of November is always an exciting time for American citizens. Citizens watch the number of votes go up, thinking their vote counted, when in reality, it did...', 6), ('0aae146', 'The Electoral College is a system which was established to elect the president of the United States of America. In this system, each state receives a group of electors. The number of electors each state is awarded is based on the representation a state has in Congress. The total number of...', 6), ('0d2070c', 'Studying Venus is a worthy pursuit. Studying Venus is a worthy pursuit because it is speculated to have been the most similar to Earth, studying it can be done at reasonable expectations, and combatting the difficulty of studying Venus will have great benefits to our knowledge on the planet...', 6), ('0dcf2f6', 'In the article \"The Challenge of Exploring Venus,\" the author gives the reader basic insight on what Venus is, its history, why scientists are trying to explore it, and the challenges scientists have faced.\\n\\nOverall it is a very informative article and the point of it was to convince the reader...', 6), ('0f789a2', 'There are many controversial ideas about what was seen in the picture on Cydonia. Some belive it was from alien life form some do not. I do not believe that the \"Face\" was created by aliens. I say this because we have pictures proving so, landforms are known to form in odd ways, and we have...', 6), ('1013fcd', \"The Facial Action Coding System is an unnecesscary piece of equipment. The software that would be able to detect the emotions of an individual would have several negative affects on society. The reading of emotions is a useful tool when it is detected by someone's natural instinct, but it would...\", 6), ('14174ed', \"Facial recognition, a thing of the future, at least that's what people thought. With the new age of innovative technology, a special field of new technology has come to the public, facial recognition software. One of the most prominent softwares in the facial recognition field is the FACS, or...\", 6), ('16395a4', 'The FACS (Facial Action Coding System) has 44 major muscles in the human face programmed and their movements detectable by its software. While some may not understandable the use of this technology, it would be groundbreaking and highly effective within our classrooms. Many humans portray false...', 6), ('1ac7f5b', \"In Nick D'Alto's article, Making Mona Lisa Smile, the value for technology is absurd, because in certain situations everyone should not be exposed to the emotions of others. For example, emotions are extremely personal and sometimes it is not technically appropriate to showcase every emotion you...\", 6), ('1b45c61', 'Our facial expressions can tell someone a lot about how we feel about something or situations in our lives, sometimes even better than verbal communication. Being able to read these expressions and change the environment around us could help the human race acheive the goal of becoming...', 6), ('1cbab90', 'The author\\'s claim in the article \"The Challenge of Exploring Venus\" is not well supported by the evidence provided, and the reasoning behind the evidence. The author claims that the planet Venus would be a worthy goal to pursue, despite the dangerous conditions and harmful atmosphere that the...', 6), ('1f2ec63', 'In \"The Challenge of Exploring Venus,\" many challenges of studying Venus are presented; however, the author provides many valid reasons as to why researchers should find ways to study this planet. The author describes the similarities of Venus and Earth, provides solutions to living on Venus,...', 6), ('223b86d', 'The world today contains numerous conspiracy theories. One of these conspiracies is about the mysterious face on Mars. Some conspiracy theorists state that the face on Mars is actually a result of Alien life. However NASA has provided evidence that proves the face on Mars is actually just a...', 6), ('26479a8', 'After the nice, relaxed weekend at the beach, Steve gets up to go to work at 6 AM to go to work that is half an hour away. His Monday morning seems to be great until he jolt upright, suddenly remembering about the end-of-the-month report he was supposed to do over the weekend. Steve scrambles...', 6), ('2787866', 'Computer Therapists\\n\\nIn the article \"Making Mona Lisa Smile,\" each section explains the valuable improvements technolody is making; however, one can argue that this new Facial Action Coding Sysytem may not excel in the classroom. This system enables a computer to read the expressions of humans...', 6), ('2f3bda4', 'Have you ever been faced with a boring computer assignment? Maybe you have dreaded coming to school or finishing your homework? As technology is advancing and more of the classroom is found through an electronic device, some students may find themselves losing interest in their daily lessons....', 6), ('30c179a', 'Driverless cars, is this in our future? Driverless cars have become a growing topic in the past years. Recently, more information has become visible to the general public. Are these cars a good idea? I believe driverless cars are not needed in the near future. Development of these cars is an...', 6), ('34f1c56', 'The Electoral College is used in the United States to elect a president, yet it is higly debated over whether it is needed or not. The Electoral College was founded to compromise the election of a president between the people and Congress, to try to avoid problems between both parties. Many...', 6), ('394b71b', 'Myths. Fables. Tall tales. What do they mean to you? People just want to believe things that are not true. Some may say NASA is just not wanting to tell people about the Face that was created by the aliens, but NASA claims that it is not true. The Face found on Mars cound just be the seasons...', 6), ('3a2b8f0', \"The electoral college must go down! The electoral college is unfair to voters across the United States and the amounts of electoral votes doesn't compare to the actual population. The electoral college have messed up the voting system causing horrific crisis in the United States. This system of...\", 6), ('3b20650', 'There are numerous mysteries of the world that mankind is only on the verge of solving.\\n\\nFrom Stonehenge to the Great Pyramids of Giza, historians as well as the public has a surplus of both logical and outrageous theories as to where these icons began.\\n\\nOne example of this is the Face on...', 6), ('3b755b3', 'In the excerpt, \"The Challenge of Exploring Venus,\" The author does not support their idea that Venus is a worthy pursuit, despite the dangers it presents, all to well, they start off by listing several details that correspond with the exploration of the planet. Such as details of the physical...', 6), ('3d098ec', 'The Face on Mars was not created by aliens, and does not prove that there is alien life on Mars. The Face was created simply by poor camera quality and an optical illusion. The later pictures of the Face taken in 1998 and 2001 prove this theory even further. If you look at the later pictures,...', 6), ('3d9c7b9', 'As a young child peers into the endless night sky from his bedroom window, a bright flickering spot catches his eye and leaves a single question in his mind: \"Is there anybody there?\" In the article \"The Challenge of Exploring Venus\" the author writes about that same bright spot, known as Venus,...', 6), ('406731a', 'The electoral college system has been part of America for many years. At times, this system has proved to be a good thing for our country, but in most times, it has not. I am in favor of changing to election by popular vote for the president of the United States. I am in favor of changing to a...', 6), ('418f0dc', \"Cars have always been known for their efficiency, and speed at which they bring their driver to his or her desired destination. Although, many people are aware of the causes of driving and the negative effects of a car, most never look at the possibilities. They don't know what they are being...\", 6), ('43d5bb4', 'Computers are one of the best inventions ever made by humans because they have enabled everybody around the world to connect to the Internet. The Internet fuels most peoples lives because of the sheer amount of accessible information about anything and everything. However, should we let...', 6), ('44bca10', \"The face on Mars really is just a landform. I've seen the landform before on our very own home planet. My family and I were going to Grand Canyon for a vacation. Life had been rough so we decided we deserved to see the country a little bit. Upon arriving in Arizona, I saw hundreds of mesas,...\", 6), ('4649f4f', 'As technology advances in a very constant and remarkable fasion, many new innovations begin to reveal themselves. While we still might be waiting for the next flying car or teleporter, several smaller, yet very significant, inventions have presented themselves. An example of this is a computer...', 6), ('47d8c55', 'The Electoral College is best described as outdated and obsolete. It was designed so that, when there were too many states and poor technology, the vote could be fairly and reallistically counted, by voting between a few people from each state. This was good and efficient for that time, but,...', 6), ('4b037f4', 'From the small town of Cocoa, Florida, to the busy streets of Beijing, China, driving cars is a global phenomenon. It could be said that reducing the use of cars is beneficiary to the human population. Although, some believe that the negative effects of limiting automobile usage will surely...', 6), ('4b50f50', 'In the article \"Making Mona Lisa Smile\" by Nick D\\'Alto, a new techonology known as the Facial Action Coding System (FACS) provides computers and devices to identify emotions in humans. The techonlogy does this through scanning facial muscle movements and with basic psychology knowldege. However,...', 6), ('4d00492', 'Dear Senator,\\n\\nConcerning the topic of the merits and demerits of the Electoral College, herein abbreviated as EC. The Electoral College, through which our president and vice presidents currently are selected, is an institution that concerns many people in the United States. Some claim that the...', 6), ('4e9bf56', 'The development of a new, self-driving car that functions efficiently is being tested by various different companies, like Google and General Motors, but what practical purpose would this development solve? Some argue that these smart cars would increase traffic efficiency and could facilitate a...', 6), ('4f6582d', \"While NASA's greatest scientists were working hard in their Jet Propulsion Lab in 1976, an eerie picture appeared on their monitors, as the spacecraft they sent to Mars, the Viking 1, has taken a picture of what looks like an alien-built human face on Mars, though it was actually another basic...\", 6), ('5091e12', 'In \"The Challenge of Exploring Venus\", the author writes about a great number problems that come along with trying to get information on the our planetary neighbor, Venus. We, the readers, learn in detail about the specific challenges that come along with studying Venus, even with its close...', 6), ('50d3e20', \"Some people are better at hiding emotions than others, but with a recent innovation from Thomas Huang, a professer at the Bechman Institute for Advanced Science, hiding emotions may no longer be so easy. With the software that was recently created, computers can read emotions off of somebody's...\", 6), ('5190863', 'People are facinated with the Man on the Moon and the idea of Martians, but most people do not think about life on Venus. Venus is the second planet from the sun and shares many geographical features with Earth. However, studying this planet is made difficult by the dense and toxic atmosphere,...', 6), ('5266ddf', 'Dear Senator,\\n\\nThe robust political system of the American government is greatly hindered by the Electoral College. The Electoral College isn\\'t completely representative of what citizens really want. History will prove such logic with just a simple recollection of past events. \"Back in 1960,...', 6), ('53be578', 'Are you the kind of person that is really interested in political stuff? Politics can be a subject that will start fights, but not everyone is so interested. You must know what the electoral college is. It is a system where when you vote for your president you are actually voting for a group of...', 6), ('56e11a2', 'Have you ever wanted to know exactly how somone is feeling? What if you were telling your friend a story and you truly wanted to know if they found it interesting? The latest innovation from Professor Thomas Huang and Professor Nicu Sebe can detect the emotions of someone by calculating the way...', 6), ('57fcfea', 'Mapping the Thoughts of Students\\n\\nIn the article \"Making Mona Lisa Smile,\" advancing technology used for recognizing human emotion is suggested for use in the classroom. By having a computer be able to register the emotions of a student and adjust the lesson accordingly using a program called...', 6), ('58b61cc', 'While the idea of using a Facial Action Coding System in the educational process would certainly be interesting, I do not think it is nearly advanced enough to be able to be used in modern schools. While the technology may be able to find the hidden emotions behind the famous portrait Mona Lisa...', 6), ('597f576', \"The technological age has advanced to the point of being able to calculate the complex emotions of the Mona Lisa, and there's proposal for moving into classrooms as well. However, this is a sentiment that must be rejected wholeheartedly. Despite possible learning benefits, facial recognition...\", 6), ('5a22a42', 'The FACS (Facial Action Coding System) machine developed by Dr. Paul Eckman is turning the tides of facial expression recognition. It is able to distinguish individual expressions such as happiness, surprise, anger, disgust, fear, and sadness which humans can find hard to do making it vital to...', 6), ('5aa769f', \"Technology continues to advance as it becomes more complicated, complex, and innovative in today's society.\\n\\nJust eleven years ago the iPhone did not exist, and yet now we have access to 3-d printers, life-saving medical advancments, and...the Facial Action Coding System?\\n\\nThat's right: this new...\", 6), ('5c54427', 'With the aging of time comes the advent of new technology. One specific development in this modern era is none other than computer-driven cars. This progression, however, has indubitably raised the question: should we have them or not? While computer-driven cars may cause responsibility issues...', 6), ('6215c79', \"In today's world, students are filled with many emotions, some too difficult for even parents to decode. The rollercoaster of feelings that a teenager endures in a day is confusing and complex. But with newly found technology, it may be easier now for the emotions of students' to be understood...\", 6), ('6271110', \"The Electoral College is a system that must be changed. It is a system that takes away the people's vote in a sense. As it originated from the Founding Fathers, it is as well an outdated system, that could have a drastic overhaul. The Electoral College could be thought of as ruining portions of...\", 6), ('63b8e3f', \"The Electoral College has been established since the founding of our country. It is a system that has been tried and tested to work over the course of centuries. It should be upheld for it's ability to produce a solid outcome, and though it has the possibility of failing it's faults are not...\", 6), ('667bf45', \"The use of this technology to read the emotional expressions of students in a classroom is not valuable. Yeah, it might be cool to see how one of your friends if feeling, but at the end of the day, that's their problem. This app could be useful in some way but would you really want to calculate...\", 6), ('6920fef', 'With the information the article \"Making Mona Lisa Smile\" covers, this advancement in technology seems extremely unnecessary and could potentially have negative effects even with the good intentions behind it. As far as what is explained in this article the only benefit to this technology is...', 6), ('69654af', 'In \"Making Mona Lisa Smile,\" Nick D\\'Alto introduces a new idea of using computers to intepret emotions from facial expressions. Dr. Thomas Huang envisions a possibility in which online classrooms could use facial analysis in order to more effectively instruct students. However, despite the...', 6), ('6a28e7c', 'A face on mars! NASA found a face on mars that is said to be a natural landform but many think it is alien creation. There are many reasons that shows that claim of it being an alien creation is false for example there have been 3 pictures of the \"face\" the face looks different in each, it is a...', 6), ('6a3b34a', \"'Space. The final frontier.' This is a very commonly used phrase that is the helm for space exploration. Since the beginning of time, humans have looked up to the sky and wondered what might be in that vast place above their heads. The problem is, there is simply no technology advanced enough...\", 6), ('6e990ee', 'In a school, there are clasrooms upon classrooms that are all teaching different, new, and exciting classes. When walking down a hallway, it is more than possible that the sounds of logorithmic functions could be taught to your left as Shakespeare might be being recited to your right. If you...', 6), ('70207b5', 'Ever since humans have discovered space and the existence of other planets, the belief that we are not alone in the universe has been a back-and-forth question over the years. It has inspired many works and become a huge part of pop culture. While this can be fun to think about, sometimes people...', 6), ('716b5df', \"The author evaluated their ideas about visiting Venus well in their essay, however, they did have some aspects that could be improved upon. Their introduction lacked a strong thesis which can have a negative impact on the rest of the essay if their claims aren't strongly proven. Despite their...\", 6), ('71b6e79', \"Everyone in the world makes different facial expressions everday. It's not necessarily something people try to do, but it is a natural way to express emotion. New technology called Facial Action Coding System allows doctors and scientists to evaluate people's facial expressions as a way of...\", 6), ('721fac1', 'In this article, the author presents us with facts about what makes Venus dangerous, and why we should try to study it despite the danger that comes with it. He provides many examples of the harsh conditions of Venus, but is lacking when it comes to reasons why we should continue to study it....', 6), ('722827a', 'Emotions and being able to recognize them when they occur have a lot to do with our human ability to learn and pick up information. if perhaps, one is feeling confused, it would be much harder for them to be able to retain information being thrown at them. we see this a lot in the educational...', 6), ('734354a', 'Venus is the second planet in the Milky Way solar system, that is so close yet so mysterious. Its conditions are unhabitable and unsafe for humans, making Earth seem safe despite some dangers it also has. Venus may well have also been covered with oceans like Earth currently has. In \"The...', 6), ('76ee970', 'Everyone shows emotion at some point in their lives. Whether it be joy, sorrow, or even anger everyone has expressed their emotions in one way or another. Now there is a computer software that can recognize six emotions. Reading the emotional expressions of students in a classroom using this...', 6), ('7736d47', 'Its hard reading peoples facial expressions. Some people dont have the type of face where others can take a peek at their face and know whether they are happy or upset. Life just is not that easy. Although being able to read someones facial expressions can get in a way of teaching a student,...', 6), ('77cb526', 'The \"Facial Action Coding System\" or \"FACS\" is not useful or appropriate in the classroom. Paragraph 6 describes that computers basically watch your face to see what ads to use and it could be used in the classroom to see what you understand however, it is not likely that a teacher would want...', 6), ('79dfcd7', 'Dear Mr. Senator,\\n\\nI believe that the way our elections are run are not what is best for the United States. The Electoral College is changing the way that we originally set out to vote and is making things unfair for the citizens who vote. I propose that the Electoral College is taken away all...', 6), ('7c87818', 'Growing up in a constantly changing environment, students have had to learn to adapt to the world around them. In school, students are taught to be open and ready to learn, while still facing the ups and downs in the journey of childhood to adulthood. Students make close bonds with their friends...', 6), ('7cd65d1', 'In \"The Challenge of Exploring Venus\", the author suggests that studying our sister planet is worth the risks and dangers it possesses. Often referred to as Earth\\'s \"twin\" or the \"Evening Star\", Venus has proven many times that exploration is close to impossible for spacecrafts, let alone...', 6), ('7cf67d3', \"When a student is confused in school they are supposed to raise their hand. It's been taught that way since day one. Whether that is followed or not is hard to say. Some students are scared to raise their hand however, as they grow older and mature, they seem to find more courage to ask...\", 6), ('7e6f8db', 'To Whom it May Concern:\\n\\nThe Electoral College is the cause of many political disagreements and problems whenever mentioned. Although established in the constitution, it is seen as undemocratic by many. The Electoral College takes away the ability of citizens to vote for their president; instead...', 6), ('7f17066', 'America: land of the free, the brave, and millions of proud citizens who live in a country that prides itself on its preservation of human rights and everything else that makes up a proper society. However, in order to remain a fair republic that truly takes into account the opinions of all...', 6), ('7fe2d12', \"To the state and the state's country, the election of our president must be seen carefully and wisely. As the citizens of the state, people must realize that choosing someone to take control of orders and regulations and the way the country evolves, is a process that needs to be thought of and...\", 6), ('80b646c', 'Imagine being convinced that completing a certain task is worth any strugles along the way, and you end up severely hurt because of it. That is exaclty what the author of this article is trying to do. In the article, \"The Challenge of Exploring Venus\", the author does a poor job of supporting...', 6), ('822982a', 'The presidental elections are a huge deal in the United States and everywhere else. We all sit on anticipation to see who our next leader is hoping that they will make great changed for their country and their people, eventually making it a great place to live. Not many people are well informed...', 6), ('8230435', 'In \"The Challenge of Exploring Venus,\" the author provides a compelling and efficient argument to support the idea that studying Venus is a worthy pursuit despite the dangers. Using statistics, factual information, and specific plans being developed as we speak, the author convinces the audience...', 6), ('833118e', 'Many students take their own charge in school, but that often means they hide important information from others; for instance, when they are not sure about something or when they are tired and find it hard to focus. These types of situations are hard for schools to deal with. However, there is...', 6), ('860b60b', 'In \"The Challenge of Exploring Venus,\" the author gives readers details on how Venus is Earth\\'s \"twin.\" Venus is the closest planet to Earth in both size and distance. The author discusses with readers why scientist want to explore Venus and how they are taking the steps to do it. The author of...', 6), ('86f807f', 'In \"The Challeneges of Exploring Venus\", the author claims that the obstacles that stand on the way of studying Venus should not be the reason why scientists don\\'t explore it. The author is not consistent throughout the article and does not present solid information or evidence that convinces...', 6), ('8831d7a', 'In \"The Challenge of Explorig Venus,\" the author does not support the idea that studying Venus is a worthy pursuit despite the dangers prevalent on the planet. The author uses poor diction in supporting his idea and does not provide enough evidence for \"why\" but instead provides numerous...', 6), ('904ff51', \"My fellow citizens, allow me to make an urgent announcement. Stop with the constant use of cars. It's damaging not only us, but the environment. We live in aworld where cars are now becoming a major trend, and we're driving them more and more. If we keep drawing that pattern, we won't have a...\", 6), ('9145057', 'In the article \"Making Mona Lisa Smile\" the author describes the new technology facial Action Coding System or FACS which allows a computer to pick up on what you feel like and how you are feeling. I claim that the use of FACS in a class room enviroment could have used but mostly believe it is...', 6), ('91d5de5', 'A student is sitting in his seat alternating his facial expressions from a frown to a smile every other minute. The student is not necessarily happy, sad, or pocessing mixed emotions, but simply playing around and testing the new technolgy that has been placed in the classroom. New technology...', 6), ('934ef15', 'Humans have been curious about what is out beyond the sky for a long time. From ancient Greek and Roman astronomers who thought the Earth was the center of the universe, to Galielio who proved them wrong, humans have been wondering about what is truly out there amoung the heavens and the stars....', 6), ('963705b', 'The development of driverless cars is certainly an indicator that technology has come a long way since Henry Ford and the Model-T. However, it is disappointing that the technology at hand is being used to encourage sloth, laziness, and lackadaisical behavior.\\n\\nAbove all, the whole idea of...', 6), ('980a15b', 'The author of \"The Challenge of Exploring Venus\" did a fair job at arguing their claim, that Venus is a worthy pursuit despite the dangers it presents. The author used their thesis, counter-arguements, and rebutals to get across their point that Venus is a worthwhile investment to study. Some...', 6), ('9a958aa', 'Cars have always been used to get from point A to point B. That is how the people in society know what cars are for. However, there are other alternatives when is comes to going form one destination to another. Citizens should limit their car usage. It helps with the terrible traffic on the...', 6), ('9d1a448', 'Being a person of politics yourself, you of all people should know that many compromises have been made over the course of the establishment of the United States. However, some of the compromises, like the electoral college, were made because of factors in the past and are now not needed in...', 6), ('9d5b06f', 'The author of this article is only focused on one thing in this article. They describe all of these reasons on why traveling to Venus is unsafe yet completely ignores his own reasoning by replacing it with an unrealistic claim stating that astronomers want to explore it. Also, while they explain...', 6), ('9ee0c20', 'The anachronism that is the electoral college is a system that unfairly represents voters and can possibly lead to catastrophe. The much simpler solution would be election by popular vote where every voter in every state matters rather than the system of the electoral college that discounts many...', 6), ('a00b247', 'The Electoral College is a process that has been used in the United States Government for many years. It is the process that selects a candidate for Presidency based on electoral votes rather than the popular vote of the people. Many believe that the Electoral College should be abolished, but if...', 6), ('a1b24c3', 'Though I have not been alive to see most of it, I am sure that the debate on keeping the Electoral College or changing to election by popular vote has been going on for ages. Now, the words of a fourteen year old might not mean much to a state senator, especially since it will be four years...', 6), ('a1cd4ce', \"Our country's history with cars date back a few centuries. Today, there are many cars from different brands, with different deisgns, and with different benefits. Though all these cars have one thing in common - they emit harmful pollution to the air. We already know that the pollutants given off...\", 6), ('a2082ba', \"Childhood is often painted as a happy, idyllic time in our lives, but in reality, it's a precarious era of high emotions and crucial development. One of the best places to demonstrate the vast range of emotions a child or adolescent experiences is the classroom. Triumph, frustration, bitterness,...\", 6), ('a39eecf', 'Do you think that the Electoral College prosses is practical? Do you think that it is okay for someone else to vote for us? Well, I dont think that it is right, and there are some reasons I am about to tell you that may change your mind about the whole process of voteing and electing a...', 6), ('a66fe9b', 'In the article \"The Challenge of Exploring Venus\" the author argues the point that studying venus is a worthy pursuit, despite dangers that it can present. Throughout the article the author supports this idea with various forms of evidence. Ultimately, the author is ineffective at supporting...', 6), ('a68d88a', 'In the article, \"The Challenge of Exploring Venus\", the author presents the opinion that Venus is well-worth exploring, and well-worth the challenges that humans would have to face to pursue exploration. The author does a great job of explaining why Venus ought to be explored. They also do a...', 6), ('a6fe2a9', \"Wouldn't it be nice if we could know the percentage of each emotion a person is feeling? With this new software called the Facial Action Coding System, that is now extremely possible. The use of this techonology to read the emotional expressions of students in a classrom is indeed valuable...\", 6), ('a8cc71f', 'It sounds insane to even suggest whether or not to impliment a new system of computers taht can identify the emotions of students in a classroom. However, this is not because of the idea of the software but the absurtidy of truly modifying the education system around each individual student at...', 6), ('a9c7fb1', \"Venus is an unknown planet, despite being so close to us. It is hostile, and no human could survive on its surface. But some think it is possible to reach the surface and study Venus up close. It has many dangers in the way of progress. It's clouds contain sulfuric acid, and it's thick...\", 6), ('a9ea38e', 'The \"face\" on Mars has become something of an controversy since an image of it was released back in 1976. The fact that people to this day believe it is still something created by ancient alien life bewilders NASA. Conspiracy theorists have concoted thousands of theories relating to NASA...', 6), ('ab4d119', 'Cars were invented by Harrison Ford to allow humans to have easier and safer access to transportation.\\n\\nCars and automotive vehicles were designed to enhance safety and allow passangers to efficiently arrive to their destination.\\n\\nCars were engineered to be driven, powered, and handled by...', 6), ('ab84f00', 'Dear State Senator,\\n\\nFor years, the presidential election has been running with an Electoral College, one in which the public does not vote for their choice canidate directly, but instead for a slate of electors to have a final deciding vote. Although the system could have worked like a breeze...', 6), ('ac53aed', 'Driverless cars, once thought to be only a far off and unattainable concept, are now a realistic possibilty in our near future. Already, manufacturers have developed working prototypes of driverless cars. With the possibility of them being an interactive part of our future, the topic as a whole...', 6), ('af12c8a', \"Dear Mr. Senator,\\n\\nIt has come to my, as well as many other's attention, that the presidential election is something that could potentially have disasterous outcomes. You, and many polititions like yourself, have been using a system called the Electoral College that people such as Richard Nixon,...\", 6), ('b23c02c', 'The Face on Mars is not made by aliens. There is no proof whatsoever of any signs of life on Mars, which means no aliens. The face on Mars is just a natural landform that coincidently looks like a human face. Given the shadows and shape, the Face very much looks like it has a human nose mouth,...', 6), ('b362cc5', \"Alien Life! A very controversial topic, some might say, especially at this point in time.\\n\\nSome people believe that the face that has been photographed on Mars is evidence of alien life; however, it is just a landform because if NASA wanted to hide the existence of aliens they wouldn't have...\", 6), ('b5dd327', 'The Electoral College was created with good intentions, but it has many vital flaws which allow for very unfair outcomes. The electoral college is an outdated, and irrational way to choose the president of our country for the next four years. It allows for silly tricks to be played - you can win...', 6), ('b6994cb', 'The Electoral College, established by the Founding Fathers within the Constitution, was meant to serve as a compromise between election of the President by a vote in Congress and a popular vote of citizens. What the founding fathers failed to see was the many outstanding flaws within the...', 6), ('b6d2705', 'In \"The Challenge of Exploring Venus,\" the author suggests that studying Venus is a worthy pursuit despite the dangers it presents. The author has shown how Venus is a planet that is worthy of our exploration through a few different points in this essay. However the author also uses many...', 6), ('b8103da', \"Dear Florida State Senator,\\n\\nEvery 4 years, many people vote for a president they think will lead the United States to greatness; some, however, don't know that they are voting for the Electoral College to vote on their choise. This act of using the Electoral College is, by definition, not...\", 6), ('ba61675', 'Every four years, the United States is turned into a political battleground by the campaign for presidency.\\xa0 The electoral College, the voting method used since the nation began, Is being highly questioned on its efficiency now vs the efficiency 250 years ago. However, the system has survived...', 6), ('bd2306a', 'The author of \"The Challenge of Exploring Venus\" does suggest that studying Venus is a worthy pursuit despite the dangers, but fails to provide enough support to make that statement believable. The author stresses in parts of the article that Venus is valuable and needs to be explored but then...', 6), ('bd3ec7d', 'While there have been presidents that have run without earning the popular vote, it does not mean that the Electoral College is inefficient, bad, or unnecessary.\\xa0 The Electoral College, chosen by our founding fathers, is a process in which people elect for electors.\\xa0 Then the electors vote for...', 6), ('be3dfcc', 'The \"Face on Mars\" is a famous landmark on, you guessed it, Mars! Many people believe that it is just a natural landform, but others believe it was created by aliens. Why do people believe that it\\'s created by aliens? Well, they believe that the Face is bona fide proof that there is life on...', 6), ('bf09ba6', 'What if teachers were able to monitor their student\\'s emotions during class? In the article, \"Making Mona Lisa Smile\", by Nick D\\'Alto, D\\'Alto talks about a technology that was developed that can detect how someone or something feels based off of facial expressions. How the technology works is...', 6), ('bfaf295', 'The author of \"The Challenge of Exploring Venus\" tries to explain the several complications of sending a mission to Venus. They provide tons of factual evidence about the geography and climate of Venus. They give many good points, but ultimately fail at their task to convince readers that Venus...', 6), ('c149d08', 'The ever developing field of technology continues to change and shape our lives every day. As we migrate towards a world that is more technalized than ever, it is inevitable that technology eventually begin to be able to do human functions such as recognizing emotions. The Facial Action Coding...', 6), ('c1ffeb5', 'The Face\\n\\nSome people belevie that the landform is a face, but they need to face the facts. The face is that hte \"face\" is just shadows on a landform. NASA has discovered that the \"face\" is like a butte or mesa on earth which are landforms common around the American West. In 1998 NASA captured...', 6), ('c433787', 'Many technological improvements in the field of education are being made every day. There are constantly new and exciting ways to educate and teach students each and every year. However, behind all of that technology there must still be a competent teacher/instructor there in order to fully...', 6), ('c7430fd', 'When the Constitution of the United States was written our founding fathers decided on an Electoral College as the way to ellect the president instead of a direct vote. The Electoral College is a process that makes a compromise between the popular vote of the citizens and the Congressional vote....', 6), ('c7a806f', \"It's FACTS That We Don't Need FACS\\n\\nBeing in school brings out a mix of emotions in every student. Wether the student is stressed, happy, or sad depends on many different variables. A student can feel these emotions because of a situation at home, a problem with a friend, and obviously because...\", 6), ('c8f48f9', 'Automobiles have become a necessity to keep our world functioning. Unfortunately, there are irreparable damages that cars can cause to the environment, which is one of the arguments used by people supporting the idea of driverless cars. The process of creating these cars undoubtedly takes a lot...', 6), ('ca58ee7', '9When looking at the world from a birds eye view, it is possible to see the beauty in the world; Even so, in certain developed and developing areas, the people are choking. The choking is not just supported by the violated environment, but along with that, society is an advocate for the pain of...', 6), ('d2d423b', 'In the classroom, a teacher may not be able to fully understand and realize the feelings and emotions of the students in their classroom. The teacher will not be able to meet with every single one of their students to make sure that they are doing okay and understand everything in class....', 6), ('d62b9c4', \"It's safe to say that almost everyone on Earth has tried to hide their emotions on at least one occasion. Humans do this for a reason, and that reason is that they do not want others to know about them. Trying to pry those emotions out can lead to anger, frustration, and confusion. So a person...\", 6), ('d8361b9', 'Body actions say more than words could ever say. This can simply be tested by taking a glance at any individual you may come in-contact with; almost immediately, our brains can process exactly how the other person is feeling. In recent years, this process we do ourselves, has turned to...', 6), ('d9738d3', \"Driverless cars aren't really driverless and may even cause more problems on the road. One negative aspect is that eventually the ability to drive a car would wither away and die. For example, if you took a one year old baby and cooked for and fed him until he was eighteen, would he be able to...\", 6), ('dd64f5b', 'Google has always been there for us when we need a fantastic search engine or when we need to figure out what special holiday it is, but little did we know about there lastest invention! Google has been seeking for a better technological future since 2009 with there latest peice; the smart...', 6), ('dd852e1', 'Do you believe that NASA is with holding information about an alien species? Many people in fact do. However, their arguments are severely flawed. There are thousands and thousands of naturally made landforms on planet Earth, and we can only logically assume there are even more naturally made...', 6), ('dda8663', \"New technology is being introduced to mankind almost every second in this world, and now, the latest techonology is a computer program called the Facial Action Coding System which can identify a person's emotions. The question is whether this technology is actually valuable and for what it could...\", 6), ('dde0bcf', 'The author of the article \"The Challenge of Exploring Venus\" presents a well written case on why mankind should continue to look for ways to explore Venus. The author presents the article starting off with information on Venus and how its challenges inhibit scientists from exploring it. They...', 6), ('dff0c49', 'The author of \"The Challenge of Exploring Venus,\" stated that meeting the challenge of exploring Venus is valuable because it will provide more knowledge of the planet, but also because humans will be curious about many dangerous things in the future. The author stated many dangers and doubts of...', 6), ('e026f3c', 'Space is always going to be a mystery to us. We will never be able to explore all of our universe. However, we can stil hold hope that maybe there are other life forms out in space. So when \"The Face\" was found on Mars in the region Cydonia, many people were shocked, especially the public! Many...', 6), ('e046c43', 'While the article \"Making Mona Lisa Smile\" by Nick D\\'Alto talks in great depth about the science behind how we make certain expressions and what a computer can do with that, the author does not mention what is really causing these emotions, whether it is happiness, anger, or disgust. However,...', 6), ('e0688dd', 'There is a lot contraversy regarding the Electoral College system of voting in the United States. Some voting members would argue that the system, although flawed, has yet to make a monumental mistake, and say that the minor issues were resolved or at the very least barely effective in the...', 6), ('e11d005', 'The author of \"The Challenge of Exploring Venus\" believes that studying Venus is something that should be done even though it can be very dangerous. The author gives multiple reasons to why we should explore the planet, or learn more about it. However, some people think the dangers of Venus...', 6), ('e2f5624', 'Classrooms in this time period are filled with high-tech computers and new innovations that are useful to teachers and students. It seems like every month something new is added to classrooms that can help stimulate learning. Some of these new inventions are something that no one would of ever...', 6), ('e9831f4', 'When limiting car usage the first thing that most everyone thinks of is: \"How would I get from Point A to Point B instead of driving myself in my car? Would I walk, ride a bike, take public transportation, or try and find a new creative approach?\" Limiting car usage is not the end of the world,...', 6), ('ecfadac', 'The concept of aliens is a topic that some of us believe and some of us do not. Whether it has to do with how aliens may have affected how Earth was created or that there are other living organisms on planets other than Earth. Most scientists have used reasonable research to discover that aliens...', 6), ('eddab2b', \"Limiting car usage is a tremendous advantange. Haven't you ever thought why? limiting car usage has its reason why its an advantage. One of the huge reasons is pollution, cars tend to create pollution, congestion, smog and many other harmful things. Source 1-4 mentions useful information of the...\", 6), ('ede5e1e', '\"Let\\'s keep moving forward\". Walt Disney harped at the advancement of entertainment and technology in the world and constantly reminded everyone to keep moving forward in their lives and to keep an open mind with new technology. Just like with some of Diney\\'s crazy inventions one must try the...', 6), ('ef3ba7e', \"She's 83 percent happy, 9 percent disgusted, 6 percent fearful, and 2 percent angry. Wait, anger and disgust is rising? Happiness is plummeting? What is happening? The answer is that this emotion reading technology, though interesting, could actually have a very negative effect on the people it...\", 6), ('f260d4e', 'The author supports his arguement quite effectively, though not without any flaws. The author effectively lists off the benefits of exploring Venus, and proper proposals for doing so, however the complexity and unrealistic assumptions of the solutions as well as the negative descripton of Venus...', 6), ('f2640ea', 'As the author defends the claim that the exploration of Venus is a \"worthy pursuit,\" I, however, believe that this statement is not proven very efficiently. Although the author refers to NASA and the experiments they\\'ve carried out, the information just does not sufficiently back up the...', 6), ('f305dac', 'Facial Coding: Valuable or Not\\n\\nThere is a new emotion reader out there, called FACS, short for the Facial Action Coding System. This new application has a bunch of cool features and innovations that can have some pretty practical applications. However, this essay is only focused on one...', 6), ('f40b5d8', 'Trying to detect someones emotions is like playing the game \"Clue\", it\\'s a mystery and very hard to figure out. But what if there was a software that allowed a chance to put the individual infront of a camera and the thought of guessing was no longer an option, because all the answers are...', 6), ('f5e49e4', \"January 23rd, 2015\\n\\nGreetings Mr. Senator,\\n\\nThere is one particular issue that has been boggling my brain recently. It is none other than the electoral college system. Irrational, unfair , and outdated is exactly what the electoral college system is. Isn't the virtues of American's built on...\", 6), ('f6ccff9', 'Within Nick D\\'Altos article \"Making Mona Lisa Smile\", Nick helps me view the value of using technology to read ones emotional expressions. The use of technology to read the emotional expressions of a student within a classroom or ones facial expressions throughout a painting can help distinguish...', 6), ('f72239d', 'Have you ever experienced a whirlwind of emotions during a dull class? It can truly be a difficult experience attempting to explain to your teacher that you need time out from class in order to orient your mind back onto the subject at hand. With a new technology developed called FACS, or Facial...', 6), ('f86b855', 'Emotions are a vital part of human life. Although they are sometimes overlooked or seem to not be present simply by looking at someone\\'s face, they are used every day. The article \"Making Mona Lisa Smile,\" introduces information regarding a technology which is able to detect the most common...', 6), ('fa9b6e1', 'Leonardo Da Vinci was one of the greatest reniassance painters of the time. His study of the human anatomy allowed him to create pictures that captured the humna state. On of his most well known paintings is the \"Mona Lisa\". The Mona Lisa is a women that has sort of complacent facial features....', 6)]\n"
     ]
    }
   ],
   "source": [
    "db = SQLDatabase(engine=engine)\n",
    "print(db.dialect)\n",
    "print(db.get_usable_table_names())\n",
    "print(db.run(\"SELECT * FROM essay WHERE score > 5;\"))"
   ]
  },
  {
   "cell_type": "code",
   "execution_count": 13,
   "metadata": {},
   "outputs": [
    {
     "name": "stdout",
     "output_type": "stream",
     "text": [
      "[(156,)]\n"
     ]
    }
   ],
   "source": [
    "# Define the query to count records with a condition\n",
    "condition = \"score > 5\"  # Condition to be met\n",
    "query = f\"SELECT COUNT(*) FROM essay WHERE {condition};\"\n",
    "\n",
    "# Execute the query\n",
    "count_result = db.run(query)\n",
    "print(count_result)"
   ]
  }
 ],
 "metadata": {
  "kernelspec": {
   "display_name": "langchain",
   "language": "python",
   "name": "python3"
  },
  "language_info": {
   "codemirror_mode": {
    "name": "ipython",
    "version": 3
   },
   "file_extension": ".py",
   "mimetype": "text/x-python",
   "name": "python",
   "nbconvert_exporter": "python",
   "pygments_lexer": "ipython3",
   "version": "3.11.5"
  }
 },
 "nbformat": 4,
 "nbformat_minor": 2
}
